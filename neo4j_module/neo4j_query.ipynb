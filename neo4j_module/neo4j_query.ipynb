{
 "cells": [
  {
   "cell_type": "code",
   "execution_count": 1,
   "metadata": {},
   "outputs": [],
   "source": [
    "from neo4j import GraphDatabase\n",
    "import csv\n",
    "import random\n",
    "\n",
    "class Neo4jConnection : \n",
    "    def __init__(self, uri, user, password) :\n",
    "        self._driver = GraphDatabase.driver(uri, auth=(user, password))\n",
    "\n",
    "    def close(self) :\n",
    "        self._driver.close()\n",
    "    \n",
    "    def query(self, query, params=None) :\n",
    "        with self._driver.session() as session :\n",
    "            result = session.run(query, params)\n",
    "            return result.data()\n",
    "url = \"bolt://localhost:7687\"\n",
    "username = \"neo4j\"\n",
    "password = \"12341234\"\n",
    "\n",
    "conn = Neo4jConnection(url, username, password)"
   ]
  },
  {
   "cell_type": "code",
   "execution_count": 21,
   "metadata": {},
   "outputs": [],
   "source": [
    "import csv\n",
    "\n",
    "query_add = \"\"\"\n",
    "    CREATE (a:Article {num: $num, content: $content})\n",
    "    RETURN a\n",
    "\"\"\"\n",
    "i = 1\n",
    "with open(\"../data/cleanText2.csv\", 'r', encoding=\"utf-8\") as f :\n",
    "    reader = csv.reader(f)\n",
    "    for item in reader :\n",
    "        params = {\"num\": i, \"content\": item[0]}\n",
    "        conn.query(query_add, params)\n",
    "        i += 1\n",
    "conn.close()"
   ]
  },
  {
   "cell_type": "code",
   "execution_count": 36,
   "metadata": {},
   "outputs": [],
   "source": [
    "\n",
    "\n",
    "query_add = \"\"\"\n",
    "    CREATE (u:User {num: $num, uid: $uid})\n",
    "    RETURN u\n",
    "\"\"\"\n",
    "\n",
    "conn = Neo4jConnection(url, username, password)\n",
    "\n",
    "i = 1\n",
    "with open(\"../MOCK_DATA.csv\", 'r', encoding=\"utf-8\") as f :\n",
    "    reader = csv.reader(f)\n",
    "    for user in reader :\n",
    "        params = {\"num\": i, \"uid\": user[0]}\n",
    "        conn.query(query_add, params)\n",
    "        i += 1\n",
    "conn.close()"
   ]
  },
  {
   "cell_type": "code",
   "execution_count": 23,
   "metadata": {},
   "outputs": [
    {
     "ename": "NameError",
     "evalue": "name 'result' is not defined",
     "output_type": "error",
     "traceback": [
      "\u001b[1;31m---------------------------------------------------------------------------\u001b[0m",
      "\u001b[1;31mNameError\u001b[0m                                 Traceback (most recent call last)",
      "Cell \u001b[1;32mIn[23], line 25\u001b[0m\n\u001b[0;32m     17\u001b[0m     query_relation \u001b[38;5;241m=\u001b[39m \u001b[38;5;124mf\u001b[39m\u001b[38;5;124m\"\"\"\u001b[39m\n\u001b[0;32m     18\u001b[0m \u001b[38;5;124m        MATCH (a: Article), (h: Hashtag)\u001b[39m\n\u001b[0;32m     19\u001b[0m \u001b[38;5;124m        WHERE a.num = \u001b[39m\u001b[38;5;132;01m{\u001b[39;00mi\u001b[38;5;132;01m}\u001b[39;00m\u001b[38;5;124m AND h.num = \u001b[39m\u001b[38;5;132;01m{\u001b[39;00mrandom_num\u001b[38;5;132;01m}\u001b[39;00m\n\u001b[0;32m     20\u001b[0m \u001b[38;5;124m        CREATE (a)-[:HASH_TAG]->(h)\u001b[39m\n\u001b[0;32m     21\u001b[0m \u001b[38;5;124m    \u001b[39m\u001b[38;5;124m\"\"\"\u001b[39m\n\u001b[0;32m     22\u001b[0m     conn\u001b[38;5;241m.\u001b[39mquery(query_relation)\n\u001b[1;32m---> 25\u001b[0m \u001b[38;5;28mprint\u001b[39m(\u001b[43mresult\u001b[49m)\n\u001b[0;32m     26\u001b[0m conn\u001b[38;5;241m.\u001b[39mclose()\n",
      "\u001b[1;31mNameError\u001b[0m: name 'result' is not defined"
     ]
    }
   ],
   "source": [
    "conn = Neo4jConnection(url, username, password)\n",
    "query_article_count = f\"\"\"\n",
    "    MATCH (a:Article)\n",
    "    RETURN count(a) AS article_count\n",
    "\"\"\"\n",
    "query_hashtag_count = f\"\"\"\n",
    "    MATCH (h:Hashtag)\n",
    "    RETURN count(h) AS hashtag_count\n",
    "\"\"\"\n",
    "article_count = conn.query(query_article_count)[0]['article_count']\n",
    "hashtag_count = conn.query(query_hashtag_count)[0]['hashtag_count']\n",
    "\n",
    "\n",
    "\n",
    "for i in range(1, article_count + 1) :\n",
    "    random_num = random.randint(1, hashtag_count + 1)\n",
    "    query_relation = f\"\"\"\n",
    "        MATCH (a: Article), (h: Hashtag)\n",
    "        WHERE a.num = {i} AND h.num = {random_num}\n",
    "        CREATE (a)-[:HASH_TAG]->(h)\n",
    "    \"\"\"\n",
    "    conn.query(query_relation)\n",
    "\n",
    "conn.close()"
   ]
  },
  {
   "cell_type": "code",
   "execution_count": 22,
   "metadata": {},
   "outputs": [
    {
     "name": "stdout",
     "output_type": "stream",
     "text": [
      "[{'u': {'uid': 'id', 'num': 1}}]\n",
      "[]\n"
     ]
    }
   ],
   "source": [
    "conn = Neo4jConnection(url, username, password)\n",
    "\n",
    "query_relation = \"\"\"\n",
    "    MATCH (a: Article), (h: Hashtag)\n",
    "    WHERE a.num = 50 AND h.num = 50\n",
    "    CREATE (a)-[:HASH_TAG]->(h)\n",
    "\"\"\"\n",
    "\n",
    "query_hashtag_count = f\"\"\"\n",
    "    MATCH (h:Hashtag)\n",
    "    RETURN count(h) AS hashtag_count\n",
    "\"\"\"\n",
    "\n",
    "query_find = \"\"\"\n",
    "    MATCH (h:Hashtag) WHERE h.num = 29 RETURN h\n",
    "\"\"\"\n",
    "\n",
    "query_user_find = \"\"\"\n",
    "    MATCH (u:User) WHERE u.num = 1 RETURN u\n",
    "\"\"\"\n",
    "\n",
    "print(conn.query(query_user_find))\n",
    "print(conn.query(query_find))\n",
    "\n",
    "conn.close()"
   ]
  },
  {
   "cell_type": "markdown",
   "metadata": {},
   "source": []
  },
  {
   "cell_type": "code",
   "execution_count": 10,
   "metadata": {},
   "outputs": [
    {
     "name": "stdout",
     "output_type": "stream",
     "text": [
      "1001\n",
      "10531\n"
     ]
    },
    {
     "data": {
      "text/plain": [
       "<bound method Neo4jConnection.close of <__main__.Neo4jConnection object at 0x0000021DE02ED520>>"
      ]
     },
     "execution_count": 10,
     "metadata": {},
     "output_type": "execute_result"
    }
   ],
   "source": [
    "import random\n",
    "\n",
    "\n",
    "conn = Neo4jConnection(url, username, password)\n",
    "\n",
    "query_user_count = f\"\"\"\n",
    "    MATCH (u:User)\n",
    "    RETURN count(u) AS user_count\n",
    "\"\"\"\n",
    "query_article_count = f\"\"\"\n",
    "    MATCH (a:Article)\n",
    "    RETURN count(a) AS article_count\n",
    "\"\"\"\n",
    "\n",
    "user = conn.query(query_user_count)[0]['user_count']\n",
    "article = conn.query(query_article_count)[0]['article_count']\n",
    "\n",
    "for u_num in range(1, user + 1) :\n",
    "    a_num = random.randint(1, article)\n",
    "    query_relation = f\"\"\"\n",
    "        MATCH (u:User), (a: Article)\n",
    "        WHERE u.num = {u_num} AND a.num = {a_num}\n",
    "        CREATE (u)-[:INTERESTED]->(a)\n",
    "    \"\"\"\n",
    "    conn.query(query_relation)\n",
    "\n",
    "print(user)\n",
    "print(article)\n",
    "\n",
    "\n",
    "conn.close"
   ]
  },
  {
   "cell_type": "code",
   "execution_count": 11,
   "metadata": {},
   "outputs": [],
   "source": [
    "import pandas\n",
    "import csv\n",
    "conn = Neo4jConnection(url, username, password)\n",
    "\n",
    "query = \"\"\"\n",
    "    MATCH (head)-[relation]->(tail)\n",
    "    RETURN head, relation, tail\n",
    "\"\"\"\n",
    "\n",
    "result = conn.query(query)\n",
    "\n",
    "with open(\"triplets.csv\", 'w', encoding='utf-8') as f :\n",
    "    writer = csv.writer(f)\n",
    "    writer.writerow([\"relation\"])\n",
    "    for item in result :\n",
    "        writer.writerow([item['relation']])\n",
    "\n",
    "conn.close()"
   ]
  }
 ],
 "metadata": {
  "kernelspec": {
   "display_name": "Python 3",
   "language": "python",
   "name": "python3"
  },
  "language_info": {
   "codemirror_mode": {
    "name": "ipython",
    "version": 3
   },
   "file_extension": ".py",
   "mimetype": "text/x-python",
   "name": "python",
   "nbconvert_exporter": "python",
   "pygments_lexer": "ipython3",
   "version": "3.12.1"
  }
 },
 "nbformat": 4,
 "nbformat_minor": 2
}
